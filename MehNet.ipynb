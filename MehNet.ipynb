{
  "metadata": {
    "kernelspec": {
      "language": "python",
      "display_name": "Python 3",
      "name": "python3"
    },
    "language_info": {
      "pygments_lexer": "ipython3",
      "nbconvert_exporter": "python",
      "version": "3.6.4",
      "file_extension": ".py",
      "codemirror_mode": {
        "name": "ipython",
        "version": 3
      },
      "name": "python",
      "mimetype": "text/x-python"
    },
    "colab": {
      "provenance": []
    }
  },
  "nbformat_minor": 0,
  "nbformat": 4,
  "cells": [
    {
      "cell_type": "markdown",
      "source": [
        "**MehNet**\n",
        "\n",
        "MehNet: **Me**lting point **H**ashi**n**g **T**able and Vigesimal digits based protein ID numbers"
      ],
      "metadata": {
        "id": "mkLa-qEF8XAa"
      }
    },
    {
      "cell_type": "markdown",
      "source": [
        "First of all, retrieve needed python libraries."
      ],
      "metadata": {
        "id": "TvJVrfrwZfWz",
        "papermill": {
          "duration": 0.007103,
          "end_time": "2022-06-13T11:07:28.276769",
          "exception": false,
          "start_time": "2022-06-13T11:07:28.269666",
          "status": "completed"
        },
        "tags": []
      }
    },
    {
      "cell_type": "code",
      "source": [
        "%pip install Bio\n",
        "import pandas as pd\n",
        "from Bio import SeqIO\n",
        "from collections import defaultdict\n",
        "import numpy as np\n",
        "import sys\n",
        "sys.set_int_max_str_digits(0)\n",
        "from google.colab import drive\n",
        "drive.mount('/content/drive')"
      ],
      "metadata": {
        "id": "z7eRZ9b-YLcw",
        "papermill": {
          "duration": 13.581048,
          "end_time": "2022-06-13T11:07:41.865198",
          "exception": false,
          "start_time": "2022-06-13T11:07:28.28415",
          "status": "completed"
        },
        "tags": [],
        "outputId": "95fcc62e-a213-41f0-f76b-160ce4763bbb",
        "execution": {
          "iopub.status.busy": "2022-06-17T07:28:19.123283Z",
          "iopub.execute_input": "2022-06-17T07:28:19.123833Z",
          "iopub.status.idle": "2022-06-17T07:28:29.912015Z",
          "shell.execute_reply.started": "2022-06-17T07:28:19.123777Z",
          "shell.execute_reply": "2022-06-17T07:28:29.910679Z"
        },
        "trusted": true,
        "colab": {
          "base_uri": "https://localhost:8080/"
        }
      },
      "execution_count": 2,
      "outputs": [
        {
          "output_type": "stream",
          "name": "stdout",
          "text": [
            "Requirement already satisfied: Bio in /usr/local/lib/python3.10/dist-packages (1.5.9)\n",
            "Requirement already satisfied: biopython>=1.80 in /usr/local/lib/python3.10/dist-packages (from Bio) (1.81)\n",
            "Requirement already satisfied: requests in /usr/local/lib/python3.10/dist-packages (from Bio) (2.31.0)\n",
            "Requirement already satisfied: tqdm in /usr/local/lib/python3.10/dist-packages (from Bio) (4.66.1)\n",
            "Requirement already satisfied: mygene in /usr/local/lib/python3.10/dist-packages (from Bio) (3.2.2)\n",
            "Requirement already satisfied: pandas in /usr/local/lib/python3.10/dist-packages (from Bio) (1.5.3)\n",
            "Requirement already satisfied: pooch in /usr/local/lib/python3.10/dist-packages (from Bio) (1.7.0)\n",
            "Requirement already satisfied: gprofiler-official in /usr/local/lib/python3.10/dist-packages (from Bio) (1.0.0)\n",
            "Requirement already satisfied: numpy in /usr/local/lib/python3.10/dist-packages (from biopython>=1.80->Bio) (1.23.5)\n",
            "Requirement already satisfied: biothings-client>=0.2.6 in /usr/local/lib/python3.10/dist-packages (from mygene->Bio) (0.3.0)\n",
            "Requirement already satisfied: python-dateutil>=2.8.1 in /usr/local/lib/python3.10/dist-packages (from pandas->Bio) (2.8.2)\n",
            "Requirement already satisfied: pytz>=2020.1 in /usr/local/lib/python3.10/dist-packages (from pandas->Bio) (2023.3.post1)\n",
            "Requirement already satisfied: platformdirs>=2.5.0 in /usr/local/lib/python3.10/dist-packages (from pooch->Bio) (3.11.0)\n",
            "Requirement already satisfied: packaging>=20.0 in /usr/local/lib/python3.10/dist-packages (from pooch->Bio) (23.2)\n",
            "Requirement already satisfied: charset-normalizer<4,>=2 in /usr/local/lib/python3.10/dist-packages (from requests->Bio) (3.3.0)\n",
            "Requirement already satisfied: idna<4,>=2.5 in /usr/local/lib/python3.10/dist-packages (from requests->Bio) (3.4)\n",
            "Requirement already satisfied: urllib3<3,>=1.21.1 in /usr/local/lib/python3.10/dist-packages (from requests->Bio) (2.0.6)\n",
            "Requirement already satisfied: certifi>=2017.4.17 in /usr/local/lib/python3.10/dist-packages (from requests->Bio) (2023.7.22)\n",
            "Requirement already satisfied: six>=1.5 in /usr/local/lib/python3.10/dist-packages (from python-dateutil>=2.8.1->pandas->Bio) (1.16.0)\n",
            "Drive already mounted at /content/drive; to attempt to forcibly remount, call drive.mount(\"/content/drive\", force_remount=True).\n"
          ]
        }
      ]
    },
    {
      "cell_type": "markdown",
      "source": [
        "Download datasets from net or local files."
      ],
      "metadata": {
        "id": "SszOrHGxd8gn",
        "papermill": {
          "duration": 0.007957,
          "end_time": "2022-06-13T11:07:41.881602",
          "exception": false,
          "start_time": "2022-06-13T11:07:41.873645",
          "status": "completed"
        },
        "tags": []
      }
    },
    {
      "cell_type": "code",
      "source": [
        "fasta = open(\"/content/drive/MyDrive/uniprot_sprot.fasta\",\"r\")"
      ],
      "metadata": {
        "id": "7GPOdlZBeHVI",
        "papermill": {
          "duration": 0.027002,
          "end_time": "2022-06-13T11:07:41.916618",
          "exception": false,
          "start_time": "2022-06-13T11:07:41.889616",
          "status": "completed"
        },
        "tags": [],
        "execution": {
          "iopub.status.busy": "2022-06-17T07:28:29.914354Z",
          "iopub.execute_input": "2022-06-17T07:28:29.914864Z",
          "iopub.status.idle": "2022-06-17T07:28:29.923868Z",
          "shell.execute_reply.started": "2022-06-17T07:28:29.914814Z",
          "shell.execute_reply": "2022-06-17T07:28:29.922634Z"
        },
        "trusted": true
      },
      "execution_count": 3,
      "outputs": []
    },
    {
      "cell_type": "markdown",
      "source": [
        "Parse fasta sequences and remove duplicates. Merge and keep both headers(\"mkh { }\". Exclude fasta sequences which includes aminoacids out of twenty standard ones. Then divide each headers and fastasequences in different lists(\"seq_ids [ ], fastaseqs [ ]\")."
      ],
      "metadata": {
        "id": "MKgVyg60ePFU",
        "papermill": {
          "duration": 0.007852,
          "end_time": "2022-06-13T11:07:41.933011",
          "exception": false,
          "start_time": "2022-06-13T11:07:41.925159",
          "status": "completed"
        },
        "tags": []
      }
    },
    {
      "cell_type": "code",
      "source": [
        "dict_fasta = {record.id:record.seq for record in SeqIO.parse(fasta,\"fasta\")}\n",
        "\n",
        "mkh = {}\n",
        "for key, value in dict_fasta.items():\n",
        "    if value in mkh:\n",
        "        mkh[value].append(key)\n",
        "    else:\n",
        "        mkh[value] = [ key ]\n",
        "\n",
        "\n",
        "\n",
        "\n",
        "fastaseqs=[]\n",
        "seq_ids=[]\n",
        "for seq,id in mkh.items():\n",
        "    if not \"U\"in seq:\n",
        "        if not \"X\" in seq:\n",
        "            if not \"B\" in seq:\n",
        "                if not \"O\" in seq:\n",
        "                    if not \"Z\" in seq:\n",
        "                        if not \"J\" in seq:\n",
        "                            if not \"TERM\" in seq:\n",
        "                                seq_ids.append(id)\n",
        "                                fastaseqs.append(seq)\n",
        "\n"
      ],
      "metadata": {
        "id": "ujbPVydlerZF",
        "papermill": {
          "duration": 12.46848,
          "end_time": "2022-06-13T11:07:54.409948",
          "exception": false,
          "start_time": "2022-06-13T11:07:41.941468",
          "status": "completed"
        },
        "tags": [],
        "execution": {
          "iopub.status.busy": "2022-06-17T07:28:29.925261Z",
          "iopub.execute_input": "2022-06-17T07:28:29.9256Z",
          "iopub.status.idle": "2022-06-17T07:28:34.195922Z",
          "shell.execute_reply.started": "2022-06-17T07:28:29.92557Z",
          "shell.execute_reply": "2022-06-17T07:28:34.193909Z"
        },
        "trusted": true
      },
      "execution_count": 4,
      "outputs": []
    },
    {
      "cell_type": "markdown",
      "source": [
        "Aminoacids ordered via melting points\n",
        "\n",
        "\"EQPKSNCRTDMFIHWGLAVY\"\n",
        "\n",
        "One letter codes assigned to vigesimal digits\n",
        "\n",
        "\n",
        "Q:0,E:1,C:2,P:3,R:4,K:5,S:6,W:7,N:8,T:9,G:A,D:B,F:C,M:D,I:E,H:F,L:G,A:H,V:I,Y:J\n"
      ],
      "metadata": {
        "id": "I1P17G4wg6-i",
        "papermill": {
          "duration": 0.007917,
          "end_time": "2022-06-13T11:07:54.426193",
          "exception": false,
          "start_time": "2022-06-13T11:07:54.418276",
          "status": "completed"
        },
        "tags": []
      }
    },
    {
      "cell_type": "code",
      "source": [
        "endfastp=[]\n",
        "for c in fastaseqs:\n",
        "    r = c.replace(\"E\", \"1\").replace(\"Q\", \"0\").replace(\"C\", \"2\").replace(\"P\", \"3\").replace(\"R\", \"4\").replace(\"K\", \"5\").replace(\"S\", \"6\").replace(\"W\", \"7\").replace(\"N\", \"8\").replace(\"T\", \"9\").replace(\"F\", \"C\").replace(\"H\", \"F\").replace(\"A\", \"H\").replace(\"G\", \"A\").replace(\"D\", \"B\").replace(\"M\", \"D\").replace(\"I\", \"E\").replace(\"L\", \"G\").replace(\"V\", \"I\").replace(\"Y\", \"J\")\n",
        "    endfastp.append(r)"
      ],
      "metadata": {
        "id": "3eFs7U4pkDyc",
        "papermill": {
          "duration": 33.598489,
          "end_time": "2022-06-13T11:08:28.032828",
          "exception": false,
          "start_time": "2022-06-13T11:07:54.434339",
          "status": "completed"
        },
        "tags": [],
        "execution": {
          "iopub.status.busy": "2022-06-17T07:28:34.197217Z",
          "iopub.status.idle": "2022-06-17T07:28:34.197753Z",
          "shell.execute_reply.started": "2022-06-17T07:28:34.197493Z",
          "shell.execute_reply": "2022-06-17T07:28:34.197519Z"
        },
        "trusted": true
      },
      "execution_count": 5,
      "outputs": []
    },
    {
      "cell_type": "markdown",
      "source": [
        "Convert vigesimal to decimal.\n",
        "\n",
        "If there is an extraordinary aminoacid (different from twenty standard ones; selenocysteine,Pyrrolysine etc.) in sequence, MehNet could not convert and compute it.\n",
        "\n",
        "Check and count these exceptions. Gives warning(\"There is at least one kind of aminoacid symbol out of standard list\")."
      ],
      "metadata": {
        "id": "4EUuSIamkJcO",
        "papermill": {
          "duration": 0.008599,
          "end_time": "2022-06-13T11:08:28.049796",
          "exception": false,
          "start_time": "2022-06-13T11:08:28.041197",
          "status": "completed"
        },
        "tags": []
      }
    },
    {
      "cell_type": "code",
      "source": [
        "ID_number=[]\n",
        "counter=0\n",
        "for d in endfastp:\n",
        "    try:\n",
        "        decimal= int(str(d),20)\n",
        "        ID_number.append(decimal)\n",
        "    except:\n",
        "        ID_number.append(\"There is at least one kind of aminoacid symbol out of standard list in=  \" + d)\n",
        "        counter+=1\n",
        "counter"
      ],
      "metadata": {
        "id": "-Fhx2maNkeIG",
        "papermill": {
          "duration": 2.918291,
          "end_time": "2022-06-13T11:08:30.976429",
          "exception": false,
          "start_time": "2022-06-13T11:08:28.058138",
          "status": "completed"
        },
        "tags": [],
        "outputId": "206be2d7-b6e2-4cd2-ff10-bbe2f7a1b137",
        "execution": {
          "iopub.status.busy": "2022-06-17T07:28:34.199397Z",
          "iopub.status.idle": "2022-06-17T07:28:34.199907Z",
          "shell.execute_reply.started": "2022-06-17T07:28:34.199654Z",
          "shell.execute_reply": "2022-06-17T07:28:34.199679Z"
        },
        "trusted": true,
        "colab": {
          "base_uri": "https://localhost:8080/"
        }
      },
      "execution_count": 6,
      "outputs": [
        {
          "output_type": "execute_result",
          "data": {
            "text/plain": [
              "0"
            ]
          },
          "metadata": {},
          "execution_count": 6
        }
      ]
    },
    {
      "cell_type": "markdown",
      "source": [
        "The last step is finding duplicate ID numbers and how many exceptions."
      ],
      "metadata": {
        "id": "1A15kqZuoOTW",
        "papermill": {
          "duration": 0.008466,
          "end_time": "2022-06-13T11:08:30.993236",
          "exception": false,
          "start_time": "2022-06-13T11:08:30.98477",
          "status": "completed"
        },
        "tags": []
      }
    },
    {
      "cell_type": "code",
      "source": [
        "D = defaultdict(list)\n",
        "for i,item in enumerate(ID_number):\n",
        "    D[item].append(i)\n",
        "D = {k:v for k,v in D.items() if len(v)>1}\n",
        "\n",
        "D\n"
      ],
      "metadata": {
        "id": "rfo07LP3o5aY",
        "papermill": {
          "duration": 1.676574,
          "end_time": "2022-06-13T11:08:32.678143",
          "exception": false,
          "start_time": "2022-06-13T11:08:31.001569",
          "status": "completed"
        },
        "tags": [],
        "outputId": "d249be3b-ef71-4557-c402-abb9357f3f95",
        "execution": {
          "iopub.status.busy": "2022-06-17T07:28:34.201326Z",
          "iopub.status.idle": "2022-06-17T07:28:34.201669Z",
          "shell.execute_reply.started": "2022-06-17T07:28:34.201508Z",
          "shell.execute_reply": "2022-06-17T07:28:34.201525Z"
        },
        "trusted": true,
        "colab": {
          "base_uri": "https://localhost:8080/"
        }
      },
      "execution_count": 7,
      "outputs": [
        {
          "output_type": "execute_result",
          "data": {
            "text/plain": [
              "{18807270925240700087000056784566390024958476282094: [436682, 436683]}"
            ]
          },
          "metadata": {},
          "execution_count": 7
        }
      ]
    },
    {
      "cell_type": "markdown",
      "source": [
        "Avoid too long integer and literal value error. Convert ID list to array."
      ],
      "metadata": {
        "id": "dHjTqC8J8XAj"
      }
    },
    {
      "cell_type": "code",
      "source": [
        "ID_number=np.array(ID_number)"
      ],
      "metadata": {
        "execution": {
          "iopub.status.busy": "2022-06-17T07:28:34.20321Z",
          "iopub.status.idle": "2022-06-17T07:28:34.203647Z",
          "shell.execute_reply.started": "2022-06-17T07:28:34.20346Z",
          "shell.execute_reply": "2022-06-17T07:28:34.20348Z"
        },
        "trusted": true,
        "id": "335cxGyM8XAj"
      },
      "execution_count": 8,
      "outputs": []
    },
    {
      "cell_type": "markdown",
      "source": [
        "Make dataframes and tables of results (IDs)"
      ],
      "metadata": {
        "id": "05DfixeJpqSc",
        "papermill": {
          "duration": 0.010061,
          "end_time": "2022-06-13T11:08:32.698522",
          "exception": false,
          "start_time": "2022-06-13T11:08:32.688461",
          "status": "completed"
        },
        "tags": []
      }
    },
    {
      "cell_type": "code",
      "source": [
        "dataframe=pd.DataFrame()\n",
        "dataframe[\"Seq_Id\"]=seq_ids\n",
        "dataframe[\"fastaps\"]=fastaseqs\n",
        "dataframe[\"ID_numbers\"]=ID_number\n",
        "dataframe.to_csv(\"All_IDs.csv\")\n"
      ],
      "metadata": {
        "id": "QSrTwKNKp7ng",
        "papermill": {
          "duration": 1.925107,
          "end_time": "2022-06-13T11:08:34.635493",
          "exception": false,
          "start_time": "2022-06-13T11:08:32.710386",
          "status": "completed"
        },
        "tags": [],
        "execution": {
          "iopub.status.busy": "2022-06-17T07:28:34.205448Z",
          "iopub.status.idle": "2022-06-17T07:28:34.205962Z",
          "shell.execute_reply.started": "2022-06-17T07:28:34.2057Z",
          "shell.execute_reply": "2022-06-17T07:28:34.205725Z"
        },
        "trusted": true
      },
      "execution_count": 9,
      "outputs": []
    },
    {
      "cell_type": "code",
      "source": [
        "dataframe.head()"
      ],
      "metadata": {
        "execution": {
          "iopub.status.busy": "2022-06-17T07:28:34.207664Z",
          "iopub.status.idle": "2022-06-17T07:28:34.208203Z",
          "shell.execute_reply.started": "2022-06-17T07:28:34.20793Z",
          "shell.execute_reply": "2022-06-17T07:28:34.207956Z"
        },
        "trusted": true,
        "colab": {
          "base_uri": "https://localhost:8080/",
          "height": 206
        },
        "id": "UlqI_DyU8XAk",
        "outputId": "18b404e1-bb49-4bbf-eac8-e6d0931bd986"
      },
      "execution_count": 10,
      "outputs": [
        {
          "output_type": "execute_result",
          "data": {
            "text/plain": [
              "                   Seq_Id                                            fastaps  \\\n",
              "0  [sp|Q6GZX4|001R_FRG3G]  (M, A, F, S, A, E, D, V, L, K, E, Y, D, R, R, ...   \n",
              "1  [sp|Q6GZX3|002L_FRG3G]  (M, S, I, I, G, A, T, R, L, Q, N, D, K, S, D, ...   \n",
              "2   [sp|Q197F8|002R_IIV3]  (M, A, S, N, T, V, S, A, Q, G, G, S, N, R, P, ...   \n",
              "3   [sp|Q197F7|003L_IIV3]  (M, Y, Q, A, I, N, P, C, P, Q, S, W, Y, G, S, ...   \n",
              "4  [sp|Q6GZX2|003R_FRG3G]  (M, A, R, P, L, L, G, K, T, S, S, V, R, R, R, ...   \n",
              "\n",
              "                                          ID_numbers  \n",
              "0  8036467016895004643795419090889518925170322984...  \n",
              "1  1424363512816199274187851016002172625955902997...  \n",
              "2  5160136090643628425220391833071457704102858576...  \n",
              "3  6372245355580141314328341932374121530513253302...  \n",
              "4  4919108260740759386913660578566844213787164069...  "
            ],
            "text/html": [
              "\n",
              "  <div id=\"df-8b5473f3-47e7-49bd-91c2-721a43f9e7f5\" class=\"colab-df-container\">\n",
              "    <div>\n",
              "<style scoped>\n",
              "    .dataframe tbody tr th:only-of-type {\n",
              "        vertical-align: middle;\n",
              "    }\n",
              "\n",
              "    .dataframe tbody tr th {\n",
              "        vertical-align: top;\n",
              "    }\n",
              "\n",
              "    .dataframe thead th {\n",
              "        text-align: right;\n",
              "    }\n",
              "</style>\n",
              "<table border=\"1\" class=\"dataframe\">\n",
              "  <thead>\n",
              "    <tr style=\"text-align: right;\">\n",
              "      <th></th>\n",
              "      <th>Seq_Id</th>\n",
              "      <th>fastaps</th>\n",
              "      <th>ID_numbers</th>\n",
              "    </tr>\n",
              "  </thead>\n",
              "  <tbody>\n",
              "    <tr>\n",
              "      <th>0</th>\n",
              "      <td>[sp|Q6GZX4|001R_FRG3G]</td>\n",
              "      <td>(M, A, F, S, A, E, D, V, L, K, E, Y, D, R, R, ...</td>\n",
              "      <td>8036467016895004643795419090889518925170322984...</td>\n",
              "    </tr>\n",
              "    <tr>\n",
              "      <th>1</th>\n",
              "      <td>[sp|Q6GZX3|002L_FRG3G]</td>\n",
              "      <td>(M, S, I, I, G, A, T, R, L, Q, N, D, K, S, D, ...</td>\n",
              "      <td>1424363512816199274187851016002172625955902997...</td>\n",
              "    </tr>\n",
              "    <tr>\n",
              "      <th>2</th>\n",
              "      <td>[sp|Q197F8|002R_IIV3]</td>\n",
              "      <td>(M, A, S, N, T, V, S, A, Q, G, G, S, N, R, P, ...</td>\n",
              "      <td>5160136090643628425220391833071457704102858576...</td>\n",
              "    </tr>\n",
              "    <tr>\n",
              "      <th>3</th>\n",
              "      <td>[sp|Q197F7|003L_IIV3]</td>\n",
              "      <td>(M, Y, Q, A, I, N, P, C, P, Q, S, W, Y, G, S, ...</td>\n",
              "      <td>6372245355580141314328341932374121530513253302...</td>\n",
              "    </tr>\n",
              "    <tr>\n",
              "      <th>4</th>\n",
              "      <td>[sp|Q6GZX2|003R_FRG3G]</td>\n",
              "      <td>(M, A, R, P, L, L, G, K, T, S, S, V, R, R, R, ...</td>\n",
              "      <td>4919108260740759386913660578566844213787164069...</td>\n",
              "    </tr>\n",
              "  </tbody>\n",
              "</table>\n",
              "</div>\n",
              "    <div class=\"colab-df-buttons\">\n",
              "\n",
              "  <div class=\"colab-df-container\">\n",
              "    <button class=\"colab-df-convert\" onclick=\"convertToInteractive('df-8b5473f3-47e7-49bd-91c2-721a43f9e7f5')\"\n",
              "            title=\"Convert this dataframe to an interactive table.\"\n",
              "            style=\"display:none;\">\n",
              "\n",
              "  <svg xmlns=\"http://www.w3.org/2000/svg\" height=\"24px\" viewBox=\"0 -960 960 960\">\n",
              "    <path d=\"M120-120v-720h720v720H120Zm60-500h600v-160H180v160Zm220 220h160v-160H400v160Zm0 220h160v-160H400v160ZM180-400h160v-160H180v160Zm440 0h160v-160H620v160ZM180-180h160v-160H180v160Zm440 0h160v-160H620v160Z\"/>\n",
              "  </svg>\n",
              "    </button>\n",
              "\n",
              "  <style>\n",
              "    .colab-df-container {\n",
              "      display:flex;\n",
              "      gap: 12px;\n",
              "    }\n",
              "\n",
              "    .colab-df-convert {\n",
              "      background-color: #E8F0FE;\n",
              "      border: none;\n",
              "      border-radius: 50%;\n",
              "      cursor: pointer;\n",
              "      display: none;\n",
              "      fill: #1967D2;\n",
              "      height: 32px;\n",
              "      padding: 0 0 0 0;\n",
              "      width: 32px;\n",
              "    }\n",
              "\n",
              "    .colab-df-convert:hover {\n",
              "      background-color: #E2EBFA;\n",
              "      box-shadow: 0px 1px 2px rgba(60, 64, 67, 0.3), 0px 1px 3px 1px rgba(60, 64, 67, 0.15);\n",
              "      fill: #174EA6;\n",
              "    }\n",
              "\n",
              "    .colab-df-buttons div {\n",
              "      margin-bottom: 4px;\n",
              "    }\n",
              "\n",
              "    [theme=dark] .colab-df-convert {\n",
              "      background-color: #3B4455;\n",
              "      fill: #D2E3FC;\n",
              "    }\n",
              "\n",
              "    [theme=dark] .colab-df-convert:hover {\n",
              "      background-color: #434B5C;\n",
              "      box-shadow: 0px 1px 3px 1px rgba(0, 0, 0, 0.15);\n",
              "      filter: drop-shadow(0px 1px 2px rgba(0, 0, 0, 0.3));\n",
              "      fill: #FFFFFF;\n",
              "    }\n",
              "  </style>\n",
              "\n",
              "    <script>\n",
              "      const buttonEl =\n",
              "        document.querySelector('#df-8b5473f3-47e7-49bd-91c2-721a43f9e7f5 button.colab-df-convert');\n",
              "      buttonEl.style.display =\n",
              "        google.colab.kernel.accessAllowed ? 'block' : 'none';\n",
              "\n",
              "      async function convertToInteractive(key) {\n",
              "        const element = document.querySelector('#df-8b5473f3-47e7-49bd-91c2-721a43f9e7f5');\n",
              "        const dataTable =\n",
              "          await google.colab.kernel.invokeFunction('convertToInteractive',\n",
              "                                                    [key], {});\n",
              "        if (!dataTable) return;\n",
              "\n",
              "        const docLinkHtml = 'Like what you see? Visit the ' +\n",
              "          '<a target=\"_blank\" href=https://colab.research.google.com/notebooks/data_table.ipynb>data table notebook</a>'\n",
              "          + ' to learn more about interactive tables.';\n",
              "        element.innerHTML = '';\n",
              "        dataTable['output_type'] = 'display_data';\n",
              "        await google.colab.output.renderOutput(dataTable, element);\n",
              "        const docLink = document.createElement('div');\n",
              "        docLink.innerHTML = docLinkHtml;\n",
              "        element.appendChild(docLink);\n",
              "      }\n",
              "    </script>\n",
              "  </div>\n",
              "\n",
              "\n",
              "<div id=\"df-4b04c569-a525-4b5d-b9fd-aed07eb4a920\">\n",
              "  <button class=\"colab-df-quickchart\" onclick=\"quickchart('df-4b04c569-a525-4b5d-b9fd-aed07eb4a920')\"\n",
              "            title=\"Suggest charts.\"\n",
              "            style=\"display:none;\">\n",
              "\n",
              "<svg xmlns=\"http://www.w3.org/2000/svg\" height=\"24px\"viewBox=\"0 0 24 24\"\n",
              "     width=\"24px\">\n",
              "    <g>\n",
              "        <path d=\"M19 3H5c-1.1 0-2 .9-2 2v14c0 1.1.9 2 2 2h14c1.1 0 2-.9 2-2V5c0-1.1-.9-2-2-2zM9 17H7v-7h2v7zm4 0h-2V7h2v10zm4 0h-2v-4h2v4z\"/>\n",
              "    </g>\n",
              "</svg>\n",
              "  </button>\n",
              "\n",
              "<style>\n",
              "  .colab-df-quickchart {\n",
              "      --bg-color: #E8F0FE;\n",
              "      --fill-color: #1967D2;\n",
              "      --hover-bg-color: #E2EBFA;\n",
              "      --hover-fill-color: #174EA6;\n",
              "      --disabled-fill-color: #AAA;\n",
              "      --disabled-bg-color: #DDD;\n",
              "  }\n",
              "\n",
              "  [theme=dark] .colab-df-quickchart {\n",
              "      --bg-color: #3B4455;\n",
              "      --fill-color: #D2E3FC;\n",
              "      --hover-bg-color: #434B5C;\n",
              "      --hover-fill-color: #FFFFFF;\n",
              "      --disabled-bg-color: #3B4455;\n",
              "      --disabled-fill-color: #666;\n",
              "  }\n",
              "\n",
              "  .colab-df-quickchart {\n",
              "    background-color: var(--bg-color);\n",
              "    border: none;\n",
              "    border-radius: 50%;\n",
              "    cursor: pointer;\n",
              "    display: none;\n",
              "    fill: var(--fill-color);\n",
              "    height: 32px;\n",
              "    padding: 0;\n",
              "    width: 32px;\n",
              "  }\n",
              "\n",
              "  .colab-df-quickchart:hover {\n",
              "    background-color: var(--hover-bg-color);\n",
              "    box-shadow: 0 1px 2px rgba(60, 64, 67, 0.3), 0 1px 3px 1px rgba(60, 64, 67, 0.15);\n",
              "    fill: var(--button-hover-fill-color);\n",
              "  }\n",
              "\n",
              "  .colab-df-quickchart-complete:disabled,\n",
              "  .colab-df-quickchart-complete:disabled:hover {\n",
              "    background-color: var(--disabled-bg-color);\n",
              "    fill: var(--disabled-fill-color);\n",
              "    box-shadow: none;\n",
              "  }\n",
              "\n",
              "  .colab-df-spinner {\n",
              "    border: 2px solid var(--fill-color);\n",
              "    border-color: transparent;\n",
              "    border-bottom-color: var(--fill-color);\n",
              "    animation:\n",
              "      spin 1s steps(1) infinite;\n",
              "  }\n",
              "\n",
              "  @keyframes spin {\n",
              "    0% {\n",
              "      border-color: transparent;\n",
              "      border-bottom-color: var(--fill-color);\n",
              "      border-left-color: var(--fill-color);\n",
              "    }\n",
              "    20% {\n",
              "      border-color: transparent;\n",
              "      border-left-color: var(--fill-color);\n",
              "      border-top-color: var(--fill-color);\n",
              "    }\n",
              "    30% {\n",
              "      border-color: transparent;\n",
              "      border-left-color: var(--fill-color);\n",
              "      border-top-color: var(--fill-color);\n",
              "      border-right-color: var(--fill-color);\n",
              "    }\n",
              "    40% {\n",
              "      border-color: transparent;\n",
              "      border-right-color: var(--fill-color);\n",
              "      border-top-color: var(--fill-color);\n",
              "    }\n",
              "    60% {\n",
              "      border-color: transparent;\n",
              "      border-right-color: var(--fill-color);\n",
              "    }\n",
              "    80% {\n",
              "      border-color: transparent;\n",
              "      border-right-color: var(--fill-color);\n",
              "      border-bottom-color: var(--fill-color);\n",
              "    }\n",
              "    90% {\n",
              "      border-color: transparent;\n",
              "      border-bottom-color: var(--fill-color);\n",
              "    }\n",
              "  }\n",
              "</style>\n",
              "\n",
              "  <script>\n",
              "    async function quickchart(key) {\n",
              "      const quickchartButtonEl =\n",
              "        document.querySelector('#' + key + ' button');\n",
              "      quickchartButtonEl.disabled = true;  // To prevent multiple clicks.\n",
              "      quickchartButtonEl.classList.add('colab-df-spinner');\n",
              "      try {\n",
              "        const charts = await google.colab.kernel.invokeFunction(\n",
              "            'suggestCharts', [key], {});\n",
              "      } catch (error) {\n",
              "        console.error('Error during call to suggestCharts:', error);\n",
              "      }\n",
              "      quickchartButtonEl.classList.remove('colab-df-spinner');\n",
              "      quickchartButtonEl.classList.add('colab-df-quickchart-complete');\n",
              "    }\n",
              "    (() => {\n",
              "      let quickchartButtonEl =\n",
              "        document.querySelector('#df-4b04c569-a525-4b5d-b9fd-aed07eb4a920 button');\n",
              "      quickchartButtonEl.style.display =\n",
              "        google.colab.kernel.accessAllowed ? 'block' : 'none';\n",
              "    })();\n",
              "  </script>\n",
              "</div>\n",
              "    </div>\n",
              "  </div>\n"
            ]
          },
          "metadata": {},
          "execution_count": 10
        }
      ]
    },
    {
      "cell_type": "markdown",
      "source": [
        "Return IDs to original list type"
      ],
      "metadata": {
        "id": "PU4gKe2L8XAk"
      }
    },
    {
      "cell_type": "code",
      "source": [
        "ID_number=ID_number.tolist()"
      ],
      "metadata": {
        "execution": {
          "iopub.status.busy": "2022-06-17T07:28:34.209597Z",
          "iopub.status.idle": "2022-06-17T07:28:34.210141Z",
          "shell.execute_reply.started": "2022-06-17T07:28:34.209865Z",
          "shell.execute_reply": "2022-06-17T07:28:34.20989Z"
        },
        "trusted": true,
        "id": "XVxYegke8XAk"
      },
      "execution_count": 11,
      "outputs": []
    },
    {
      "cell_type": "markdown",
      "source": [
        "Make dataframes and tables of duplicates"
      ],
      "metadata": {
        "id": "URjgpTCBqhne",
        "papermill": {
          "duration": 0.008585,
          "end_time": "2022-06-13T11:08:34.652638",
          "exception": false,
          "start_time": "2022-06-13T11:08:34.644053",
          "status": "completed"
        },
        "tags": []
      }
    },
    {
      "cell_type": "code",
      "source": [
        "dup=[]\n",
        "for i in range(len(ID_number)):\n",
        "    if not i == ID_number.index(ID_number[i]):\n",
        "        dup.append(i)\n",
        "        dup.append(ID_number.index(ID_number[i]))\n",
        "\n",
        "\n",
        "\n",
        "dataframe.iloc[dup]"
      ],
      "metadata": {
        "id": "DjZ1FjBfqqMC",
        "papermill": {
          "duration": 6025.402794,
          "end_time": "2022-06-13T12:49:00.064138",
          "exception": false,
          "start_time": "2022-06-13T11:08:34.661344",
          "status": "completed"
        },
        "tags": [],
        "execution": {
          "iopub.status.busy": "2022-06-17T07:28:34.211606Z",
          "iopub.status.idle": "2022-06-17T07:28:34.212192Z",
          "shell.execute_reply.started": "2022-06-17T07:28:34.211873Z",
          "shell.execute_reply": "2022-06-17T07:28:34.2119Z"
        },
        "trusted": true,
        "colab": {
          "base_uri": "https://localhost:8080/",
          "height": 112
        },
        "outputId": "e6249f3d-f9e2-44ae-dd27-30a7258563ff"
      },
      "execution_count": 12,
      "outputs": [
        {
          "output_type": "execute_result",
          "data": {
            "text/plain": [
              "                         Seq_Id  \\\n",
              "436683  [sp|P0CAL3|VF84L_ASFWA]   \n",
              "436682  [sp|P0CAL2|VF84L_ASFP4]   \n",
              "\n",
              "                                                  fastaps  \\\n",
              "436683  (Q, M, M, M, F, I, T, V, Y, D, I, N, Q, K, Q, ...   \n",
              "436682  (M, M, M, F, I, T, V, Y, D, I, N, Q, K, Q, K, ...   \n",
              "\n",
              "                                               ID_numbers  \n",
              "436683  1880727092524070008700005678456639002495847628...  \n",
              "436682  1880727092524070008700005678456639002495847628...  "
            ],
            "text/html": [
              "\n",
              "  <div id=\"df-a82d583e-c2ee-4ed9-8bd2-8fb044f77c3e\" class=\"colab-df-container\">\n",
              "    <div>\n",
              "<style scoped>\n",
              "    .dataframe tbody tr th:only-of-type {\n",
              "        vertical-align: middle;\n",
              "    }\n",
              "\n",
              "    .dataframe tbody tr th {\n",
              "        vertical-align: top;\n",
              "    }\n",
              "\n",
              "    .dataframe thead th {\n",
              "        text-align: right;\n",
              "    }\n",
              "</style>\n",
              "<table border=\"1\" class=\"dataframe\">\n",
              "  <thead>\n",
              "    <tr style=\"text-align: right;\">\n",
              "      <th></th>\n",
              "      <th>Seq_Id</th>\n",
              "      <th>fastaps</th>\n",
              "      <th>ID_numbers</th>\n",
              "    </tr>\n",
              "  </thead>\n",
              "  <tbody>\n",
              "    <tr>\n",
              "      <th>436683</th>\n",
              "      <td>[sp|P0CAL3|VF84L_ASFWA]</td>\n",
              "      <td>(Q, M, M, M, F, I, T, V, Y, D, I, N, Q, K, Q, ...</td>\n",
              "      <td>1880727092524070008700005678456639002495847628...</td>\n",
              "    </tr>\n",
              "    <tr>\n",
              "      <th>436682</th>\n",
              "      <td>[sp|P0CAL2|VF84L_ASFP4]</td>\n",
              "      <td>(M, M, M, F, I, T, V, Y, D, I, N, Q, K, Q, K, ...</td>\n",
              "      <td>1880727092524070008700005678456639002495847628...</td>\n",
              "    </tr>\n",
              "  </tbody>\n",
              "</table>\n",
              "</div>\n",
              "    <div class=\"colab-df-buttons\">\n",
              "\n",
              "  <div class=\"colab-df-container\">\n",
              "    <button class=\"colab-df-convert\" onclick=\"convertToInteractive('df-a82d583e-c2ee-4ed9-8bd2-8fb044f77c3e')\"\n",
              "            title=\"Convert this dataframe to an interactive table.\"\n",
              "            style=\"display:none;\">\n",
              "\n",
              "  <svg xmlns=\"http://www.w3.org/2000/svg\" height=\"24px\" viewBox=\"0 -960 960 960\">\n",
              "    <path d=\"M120-120v-720h720v720H120Zm60-500h600v-160H180v160Zm220 220h160v-160H400v160Zm0 220h160v-160H400v160ZM180-400h160v-160H180v160Zm440 0h160v-160H620v160ZM180-180h160v-160H180v160Zm440 0h160v-160H620v160Z\"/>\n",
              "  </svg>\n",
              "    </button>\n",
              "\n",
              "  <style>\n",
              "    .colab-df-container {\n",
              "      display:flex;\n",
              "      gap: 12px;\n",
              "    }\n",
              "\n",
              "    .colab-df-convert {\n",
              "      background-color: #E8F0FE;\n",
              "      border: none;\n",
              "      border-radius: 50%;\n",
              "      cursor: pointer;\n",
              "      display: none;\n",
              "      fill: #1967D2;\n",
              "      height: 32px;\n",
              "      padding: 0 0 0 0;\n",
              "      width: 32px;\n",
              "    }\n",
              "\n",
              "    .colab-df-convert:hover {\n",
              "      background-color: #E2EBFA;\n",
              "      box-shadow: 0px 1px 2px rgba(60, 64, 67, 0.3), 0px 1px 3px 1px rgba(60, 64, 67, 0.15);\n",
              "      fill: #174EA6;\n",
              "    }\n",
              "\n",
              "    .colab-df-buttons div {\n",
              "      margin-bottom: 4px;\n",
              "    }\n",
              "\n",
              "    [theme=dark] .colab-df-convert {\n",
              "      background-color: #3B4455;\n",
              "      fill: #D2E3FC;\n",
              "    }\n",
              "\n",
              "    [theme=dark] .colab-df-convert:hover {\n",
              "      background-color: #434B5C;\n",
              "      box-shadow: 0px 1px 3px 1px rgba(0, 0, 0, 0.15);\n",
              "      filter: drop-shadow(0px 1px 2px rgba(0, 0, 0, 0.3));\n",
              "      fill: #FFFFFF;\n",
              "    }\n",
              "  </style>\n",
              "\n",
              "    <script>\n",
              "      const buttonEl =\n",
              "        document.querySelector('#df-a82d583e-c2ee-4ed9-8bd2-8fb044f77c3e button.colab-df-convert');\n",
              "      buttonEl.style.display =\n",
              "        google.colab.kernel.accessAllowed ? 'block' : 'none';\n",
              "\n",
              "      async function convertToInteractive(key) {\n",
              "        const element = document.querySelector('#df-a82d583e-c2ee-4ed9-8bd2-8fb044f77c3e');\n",
              "        const dataTable =\n",
              "          await google.colab.kernel.invokeFunction('convertToInteractive',\n",
              "                                                    [key], {});\n",
              "        if (!dataTable) return;\n",
              "\n",
              "        const docLinkHtml = 'Like what you see? Visit the ' +\n",
              "          '<a target=\"_blank\" href=https://colab.research.google.com/notebooks/data_table.ipynb>data table notebook</a>'\n",
              "          + ' to learn more about interactive tables.';\n",
              "        element.innerHTML = '';\n",
              "        dataTable['output_type'] = 'display_data';\n",
              "        await google.colab.output.renderOutput(dataTable, element);\n",
              "        const docLink = document.createElement('div');\n",
              "        docLink.innerHTML = docLinkHtml;\n",
              "        element.appendChild(docLink);\n",
              "      }\n",
              "    </script>\n",
              "  </div>\n",
              "\n",
              "\n",
              "<div id=\"df-82912e9f-6665-4ae8-a048-ecea46997703\">\n",
              "  <button class=\"colab-df-quickchart\" onclick=\"quickchart('df-82912e9f-6665-4ae8-a048-ecea46997703')\"\n",
              "            title=\"Suggest charts.\"\n",
              "            style=\"display:none;\">\n",
              "\n",
              "<svg xmlns=\"http://www.w3.org/2000/svg\" height=\"24px\"viewBox=\"0 0 24 24\"\n",
              "     width=\"24px\">\n",
              "    <g>\n",
              "        <path d=\"M19 3H5c-1.1 0-2 .9-2 2v14c0 1.1.9 2 2 2h14c1.1 0 2-.9 2-2V5c0-1.1-.9-2-2-2zM9 17H7v-7h2v7zm4 0h-2V7h2v10zm4 0h-2v-4h2v4z\"/>\n",
              "    </g>\n",
              "</svg>\n",
              "  </button>\n",
              "\n",
              "<style>\n",
              "  .colab-df-quickchart {\n",
              "      --bg-color: #E8F0FE;\n",
              "      --fill-color: #1967D2;\n",
              "      --hover-bg-color: #E2EBFA;\n",
              "      --hover-fill-color: #174EA6;\n",
              "      --disabled-fill-color: #AAA;\n",
              "      --disabled-bg-color: #DDD;\n",
              "  }\n",
              "\n",
              "  [theme=dark] .colab-df-quickchart {\n",
              "      --bg-color: #3B4455;\n",
              "      --fill-color: #D2E3FC;\n",
              "      --hover-bg-color: #434B5C;\n",
              "      --hover-fill-color: #FFFFFF;\n",
              "      --disabled-bg-color: #3B4455;\n",
              "      --disabled-fill-color: #666;\n",
              "  }\n",
              "\n",
              "  .colab-df-quickchart {\n",
              "    background-color: var(--bg-color);\n",
              "    border: none;\n",
              "    border-radius: 50%;\n",
              "    cursor: pointer;\n",
              "    display: none;\n",
              "    fill: var(--fill-color);\n",
              "    height: 32px;\n",
              "    padding: 0;\n",
              "    width: 32px;\n",
              "  }\n",
              "\n",
              "  .colab-df-quickchart:hover {\n",
              "    background-color: var(--hover-bg-color);\n",
              "    box-shadow: 0 1px 2px rgba(60, 64, 67, 0.3), 0 1px 3px 1px rgba(60, 64, 67, 0.15);\n",
              "    fill: var(--button-hover-fill-color);\n",
              "  }\n",
              "\n",
              "  .colab-df-quickchart-complete:disabled,\n",
              "  .colab-df-quickchart-complete:disabled:hover {\n",
              "    background-color: var(--disabled-bg-color);\n",
              "    fill: var(--disabled-fill-color);\n",
              "    box-shadow: none;\n",
              "  }\n",
              "\n",
              "  .colab-df-spinner {\n",
              "    border: 2px solid var(--fill-color);\n",
              "    border-color: transparent;\n",
              "    border-bottom-color: var(--fill-color);\n",
              "    animation:\n",
              "      spin 1s steps(1) infinite;\n",
              "  }\n",
              "\n",
              "  @keyframes spin {\n",
              "    0% {\n",
              "      border-color: transparent;\n",
              "      border-bottom-color: var(--fill-color);\n",
              "      border-left-color: var(--fill-color);\n",
              "    }\n",
              "    20% {\n",
              "      border-color: transparent;\n",
              "      border-left-color: var(--fill-color);\n",
              "      border-top-color: var(--fill-color);\n",
              "    }\n",
              "    30% {\n",
              "      border-color: transparent;\n",
              "      border-left-color: var(--fill-color);\n",
              "      border-top-color: var(--fill-color);\n",
              "      border-right-color: var(--fill-color);\n",
              "    }\n",
              "    40% {\n",
              "      border-color: transparent;\n",
              "      border-right-color: var(--fill-color);\n",
              "      border-top-color: var(--fill-color);\n",
              "    }\n",
              "    60% {\n",
              "      border-color: transparent;\n",
              "      border-right-color: var(--fill-color);\n",
              "    }\n",
              "    80% {\n",
              "      border-color: transparent;\n",
              "      border-right-color: var(--fill-color);\n",
              "      border-bottom-color: var(--fill-color);\n",
              "    }\n",
              "    90% {\n",
              "      border-color: transparent;\n",
              "      border-bottom-color: var(--fill-color);\n",
              "    }\n",
              "  }\n",
              "</style>\n",
              "\n",
              "  <script>\n",
              "    async function quickchart(key) {\n",
              "      const quickchartButtonEl =\n",
              "        document.querySelector('#' + key + ' button');\n",
              "      quickchartButtonEl.disabled = true;  // To prevent multiple clicks.\n",
              "      quickchartButtonEl.classList.add('colab-df-spinner');\n",
              "      try {\n",
              "        const charts = await google.colab.kernel.invokeFunction(\n",
              "            'suggestCharts', [key], {});\n",
              "      } catch (error) {\n",
              "        console.error('Error during call to suggestCharts:', error);\n",
              "      }\n",
              "      quickchartButtonEl.classList.remove('colab-df-spinner');\n",
              "      quickchartButtonEl.classList.add('colab-df-quickchart-complete');\n",
              "    }\n",
              "    (() => {\n",
              "      let quickchartButtonEl =\n",
              "        document.querySelector('#df-82912e9f-6665-4ae8-a048-ecea46997703 button');\n",
              "      quickchartButtonEl.style.display =\n",
              "        google.colab.kernel.accessAllowed ? 'block' : 'none';\n",
              "    })();\n",
              "  </script>\n",
              "</div>\n",
              "    </div>\n",
              "  </div>\n"
            ]
          },
          "metadata": {},
          "execution_count": 12
        }
      ]
    },
    {
      "cell_type": "code",
      "source": [
        "dataframe.iloc[dup].to_csv(\"duplicates.csv\")"
      ],
      "metadata": {
        "id": "JJ75Xe5q5xkM",
        "papermill": {
          "duration": 0.031785,
          "end_time": "2022-06-13T12:49:00.10535",
          "exception": false,
          "start_time": "2022-06-13T12:49:00.073565",
          "status": "completed"
        },
        "tags": [],
        "execution": {
          "iopub.status.busy": "2022-06-17T07:28:34.213457Z",
          "iopub.status.idle": "2022-06-17T07:28:34.213968Z",
          "shell.execute_reply.started": "2022-06-17T07:28:34.213704Z",
          "shell.execute_reply": "2022-06-17T07:28:34.21373Z"
        },
        "trusted": true
      },
      "execution_count": 13,
      "outputs": []
    }
  ]
}